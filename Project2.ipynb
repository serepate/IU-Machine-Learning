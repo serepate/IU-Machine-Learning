{
  "nbformat": 4,
  "nbformat_minor": 0,
  "metadata": {
    "colab": {
      "name": "Project2.ipynb",
      "provenance": [],
      "collapsed_sections": []
    },
    "kernelspec": {
      "name": "python3",
      "display_name": "Python 3"
    },
    "accelerator": "GPU"
  },
  "cells": [
    {
      "cell_type": "markdown",
      "metadata": {
        "id": "iFvRlWF36iIm",
        "colab_type": "text"
      },
      "source": [
        "#**B455 : Project 2**\n",
        "\n",
        "\n",
        "> (3/3/2020) Serena Patel\n",
        "\n",
        "> The objective of this project is to utilize the CIFAR10 dataset to create a Deep Neural Network model that classifies input color images into one of ten classes. The project will include one baseline DNN model and two additional models with improved performace. Improved performace incldues changes in number of layers, different activation functions, changes in the number of neurons in each layer, etc. Also, the optimizer utilized, the number of neurons in the output layer, the loss function applied, and the input features utilized must be detailed. \n",
        "\n",
        "> Grading will be based on performance (accuracy) on the testing set of the baseline DNN model and the two other models. Accuracy is calculated with:\n",
        "\n",
        "      number of correctly classified images / total number of images\n",
        "\n",
        "\n",
        ">classes:\n",
        "  1. airplane\n",
        "  2. automobile\n",
        "  3. bird\n",
        "  4. cat\n",
        "  5. deer\n",
        "  6. dog\n",
        "  7. frog\n",
        "  8. horse\n",
        "  9. ship\n",
        "  10. truck\n",
        "\n",
        "Training set: 50,000 32x32 images\n",
        "\n",
        "Testing data: 10,000 images\n"
      ]
    },
    {
      "cell_type": "markdown",
      "metadata": {
        "id": "TbYbDkE-snx9",
        "colab_type": "text"
      },
      "source": [
        "# **Data Analysis**"
      ]
    },
    {
      "cell_type": "markdown",
      "metadata": {
        "id": "HgdAVbw42kf6",
        "colab_type": "text"
      },
      "source": [
        "**Deep Neural Network**\n",
        "\n",
        "A deep neural network, or DNN, is a neural network with more than one hidden layer. A DNN is a general term, so to implement our analysis and classification, we have to use variants of a deep neural network. \n",
        "\n",
        "**CNN**\n",
        "\n",
        "A CNN, or Convolutional Neural Network is a type of deep neural network whose input is specific to images, and therefore more applicable to this dataset. \n",
        "\n",
        "\"A convolution multiplies a matrix of pixels with a filter matrix or ‘kernel’ and sums up the multiplication values. Then the convolution slides over to the next pixel and repeats the same process until all the image pixels have been covered.\" (Building a Convolutional Neural Network in Keras)"
      ]
    },
    {
      "cell_type": "markdown",
      "metadata": {
        "id": "xKm-J61Zwhnb",
        "colab_type": "text"
      },
      "source": [
        "**Activation Function Analysis**\n",
        "\n",
        "To find the right activation function, we have to consider our options. In particular, the sigmoid function and the ReLU function.\n",
        "\n",
        ">*The Sigmoid Function*\n",
        "This function is utilized to caputre non-linearity in the data and is used to find weights of differetn layer with gradient descent and backpropogration. It does assume that the independent variables have a Gaussian distribution, an indication of randomly occurring events with a good starting generic distribution.\n",
        "The output range is [0,1], and there are problems with that. As the number of layers increases with a large input data set, the range is not affected as much it should be to show change. This can be problematic.\n",
        "\n",
        "   $\\sigma$(z) = $\\frac{1}{1+e^{-x}}$\n",
        "\n",
        " \n",
        ">*The ReLU Function*\n",
        "The Rectified Linear Unity function is a deep learning activation function that \"returns 0 if it recieves any negative input, but for any positive value x, it returns that value back.\"(Understanding Nueral Networks)\n",
        "\n",
        "Since it is influence by all x values, the ReLU function gives us more complete information, and performs better than the sigmoid function. \n",
        "\n",
        "\n"
      ]
    },
    {
      "cell_type": "markdown",
      "metadata": {
        "id": "59o5eLW48tmS",
        "colab_type": "text"
      },
      "source": [
        "# Keras Implementation\n",
        "Building a network based on the CNN model & the code from the project 2 class slides that detail a DNN model"
      ]
    },
    {
      "cell_type": "markdown",
      "metadata": {
        "id": "mhoZNDbQaPCN",
        "colab_type": "text"
      },
      "source": [
        "# import the data"
      ]
    },
    {
      "cell_type": "code",
      "metadata": {
        "id": "wxWWK4Q8uiDn",
        "colab_type": "code",
        "outputId": "f68f6be7-8725-4523-9089-2fb82ef91279",
        "colab": {
          "base_uri": "https://localhost:8080/",
          "height": 380
        }
      },
      "source": [
        "import numpy\n",
        "import matplotlib.pyplot as plt\n",
        "from keras.models import Sequential\n",
        "from keras.layers import Dense\n",
        "from keras.utils import to_categorical\n",
        "\n",
        "#load dataset\n",
        "from keras.datasets import cifar10\n",
        "(trainX, trainY), (testX, testY) = cifar10.load_data()\n",
        "# one hot encode target values\n",
        "trainY = to_categorical(trainY)\n",
        "testY = to_categorical(testY)\n",
        "\n",
        "plt.imshow(trainX[0])\n",
        "trainX[0].shape\n",
        "\n"
      ],
      "execution_count": 1,
      "outputs": [
        {
          "output_type": "stream",
          "text": [
            "Using TensorFlow backend.\n"
          ],
          "name": "stderr"
        },
        {
          "output_type": "display_data",
          "data": {
            "text/html": [
              "<p style=\"color: red;\">\n",
              "The default version of TensorFlow in Colab will soon switch to TensorFlow 2.x.<br>\n",
              "We recommend you <a href=\"https://www.tensorflow.org/guide/migrate\" target=\"_blank\">upgrade</a> now \n",
              "or ensure your notebook will continue to use TensorFlow 1.x via the <code>%tensorflow_version 1.x</code> magic:\n",
              "<a href=\"https://colab.research.google.com/notebooks/tensorflow_version.ipynb\" target=\"_blank\">more info</a>.</p>\n"
            ],
            "text/plain": [
              "<IPython.core.display.HTML object>"
            ]
          },
          "metadata": {
            "tags": []
          }
        },
        {
          "output_type": "stream",
          "text": [
            "Downloading data from https://www.cs.toronto.edu/~kriz/cifar-10-python.tar.gz\n",
            "170500096/170498071 [==============================] - 6s 0us/step\n"
          ],
          "name": "stdout"
        },
        {
          "output_type": "execute_result",
          "data": {
            "text/plain": [
              "(32, 32, 3)"
            ]
          },
          "metadata": {
            "tags": []
          },
          "execution_count": 1
        },
        {
          "output_type": "display_data",
          "data": {
            "image/png": "[encoded data removed]",
            "text/plain": [
              "<Figure size 432x288 with 1 Axes>"
            ]
          },
          "metadata": {
            "tags": []
          }
        }
      ]
    },
    {
      "cell_type": "markdown",
      "metadata": {
        "id": "1URaBYdhZ6hu",
        "colab_type": "text"
      },
      "source": [
        "# normalize the data\n",
        "\n",
        "> Our data is normalized by dividing each value by the maximum color value, 255, to classify the normalcy of color values. "
      ]
    },
    {
      "cell_type": "code",
      "metadata": {
        "id": "D-Qo7xV6aBCp",
        "colab_type": "code",
        "colab": {}
      },
      "source": [
        "# convert from integers to floats\n",
        "train_norm = trainX.astype('float32')\n",
        "test_norm = testX.astype('float32')\n",
        "# normalize to range 0-1\n",
        "train_norm = train_norm / 255.0\n",
        "test_norm = test_norm / 255.0"
      ],
      "execution_count": 0,
      "outputs": []
    },
    {
      "cell_type": "markdown",
      "metadata": {
        "id": "v0vem5GDaKz2",
        "colab_type": "text"
      },
      "source": [
        "# baseline model\n",
        "\n",
        "> In this model, we utilize the ReLU activation function with a singular base layer. I utilized 32 because it is the basic size of the image.\n",
        "\n"
      ]
    },
    {
      "cell_type": "code",
      "metadata": {
        "id": "8F2g7vqyarPX",
        "colab_type": "code",
        "outputId": "5b427971-bf11-48c7-abc3-f526d12c9d2a",
        "colab": {
          "base_uri": "https://localhost:8080/",
          "height": 51
        }
      },
      "source": [
        "from keras.models import Sequential\n",
        "from keras.layers import Conv2D\n",
        "from keras.layers import MaxPooling2D\n",
        "from keras.layers import Dense\n",
        "from keras.layers import Flatten\n",
        "from keras.layers import Dropout\n",
        "from keras.optimizers import SGD\n",
        "\n",
        "model = Sequential()\n",
        "model.add(Conv2D(32, (3, 3), activation='relu', padding='same', input_shape=(32, 32, 3)))\n",
        "model.add(Conv2D(32, (3, 3), activation='relu', padding='same'))\n",
        "model.add(MaxPooling2D((2, 2)))\n",
        "model.add(Flatten())\n",
        "model.add(Dense(128, activation='relu'))\n",
        "model.add(Dense(10, activation='softmax'))\n",
        "\n",
        "# compile model\n",
        "opt = SGD(lr=0.001, momentum=0.9)\n",
        "model.compile(optimizer=opt, loss='categorical_crossentropy', metrics=['accuracy'])\n",
        "\n",
        "model.fit(trainX, trainY, epochs=100, batch_size=64, validation_data=(testX, testY), verbose=0)\n",
        "\n",
        "# evaluate model\n",
        "accuracy = model.evaluate(testX, testY, verbose=1)\n",
        "print('Accuracy: ''> %.3f' % (accuracy * 100.0))"
      ],
      "execution_count": 5,
      "outputs": [
        {
          "output_type": "stream",
          "text": [
            "10000/10000 [==============================] - 1s 83us/step\n",
            "Accuracy: 0.1\n"
          ],
          "name": "stdout"
        }
      ]
    },
    {
      "cell_type": "markdown",
      "metadata": {
        "id": "M3OrCTaUTyvT",
        "colab_type": "text"
      },
      "source": [
        "# Model 2\n",
        "\n",
        "> In this model, the improvement made was the addidtion of the convolutional layer that doubles the initial dimensionality from 32 to 64. This allows the number of output filters in the convolution to be doubled from the previous model. "
      ]
    },
    {
      "cell_type": "code",
      "metadata": {
        "id": "_sEfWl4Pa5vx",
        "colab_type": "code",
        "colab": {
          "base_uri": "https://localhost:8080/",
          "height": 51
        },
        "outputId": "3905eb5d-9f03-4266-ede4-061397f755b3"
      },
      "source": [
        "from keras.models import Sequential\n",
        "from keras.layers import Conv2D\n",
        "from keras.layers import MaxPooling2D\n",
        "from keras.layers import Dense\n",
        "from keras.layers import Flatten\n",
        "from keras.layers import Dropout\n",
        "from keras.optimizers import SGD\n",
        "\n",
        "model = Sequential()\n",
        "model.add(Conv2D(32, (3, 3), activation='relu', padding='same', input_shape=(32, 32, 3)))\n",
        "model.add(Conv2D(32, (3, 3), activation='relu', padding='same'))\n",
        "model.add(MaxPooling2D((2, 2)))\n",
        "model.add(Conv2D(64, (3, 3), activation='relu', padding='same'))\n",
        "model.add(Conv2D(64, (3, 3), activation='relu', padding='same'))\n",
        "model.add(MaxPooling2D((2, 2)))\n",
        "model.add(Flatten())\n",
        "model.add(Dense(128, activation='relu'))\n",
        "model.add(Dense(10, activation='softmax'))\n",
        "\n",
        "# compile model\n",
        "opt = SGD(lr=0.001, momentum=0.9)\n",
        "model.compile(optimizer=opt, loss='categorical_crossentropy', metrics=['accuracy'])\n",
        "\n",
        "model.fit(trainX, trainY, epochs=100, batch_size=64, validation_data=(testX, testY), verbose=0)\n",
        "\n",
        "# evaluate model\n",
        "accuracy = model.evaluate(testX, testY, verbose=1)\n",
        "print('Accuracy: ''> %.3f' % (accuracy * 100.0))"
      ],
      "execution_count": 6,
      "outputs": [
        {
          "output_type": "stream",
          "text": [
            "10000/10000 [==============================] - 1s 87us/step\n",
            "Accuracy: 0.1\n"
          ],
          "name": "stdout"
        }
      ]
    },
    {
      "cell_type": "markdown",
      "metadata": {
        "id": "pk3h9Lckvzep",
        "colab_type": "text"
      },
      "source": [
        "# Model 3\n",
        ">In this model, the improvement made was the addidtion of the convolutional layer that triple the initial dimensionality from 32 to 128. This allows the number of output filters in the convolution to be tripled from the original model. "
      ]
    },
    {
      "cell_type": "code",
      "metadata": {
        "id": "yn_VWKsqv4fY",
        "colab_type": "code",
        "colab": {}
      },
      "source": [
        "from keras.models import Sequential\n",
        "from keras.layers import Conv2D\n",
        "from keras.layers import MaxPooling2D\n",
        "from keras.layers import Dense\n",
        "from keras.layers import Flatten\n",
        "from keras.layers import Dropout\n",
        "from keras.optimizers import SGD\n",
        "\n",
        "model = Sequential()\n",
        "model.add(Conv2D(32, (3, 3), activation='relu', padding='same', input_shape=(32, 32, 3)))\n",
        "model.add(Conv2D(32, (3, 3), activation='relu', padding='same'))\n",
        "model.add(MaxPooling2D((2, 2)))\n",
        "model.add(Conv2D(64, (3, 3), activation='relu', padding='same'))\n",
        "model.add(Conv2D(64, (3, 3), activation='relu', padding='same'))\n",
        "model.add(MaxPooling2D((2, 2)))\n",
        "model.add(Conv2D(128, (3, 3), activation='relu', padding='same'))\n",
        "model.add(Conv2D(128, (3, 3), activation='relu', padding='same'))\n",
        "model.add(MaxPooling2D((2, 2)))\n",
        "model.add(Flatten())\n",
        "model.add(Dense(128, activation='relu'))\n",
        "model.add(Dense(10, activation='softmax'))\n",
        "\n",
        "# compile model\n",
        "opt = SGD(lr=0.001, momentum=0.9)\n",
        "model.compile(optimizer=opt, loss='categorical_crossentropy', metrics=['accuracy'])\n",
        "\n",
        "model.fit(trainX, trainY, epochs=100, batch_size=64, validation_data=(testX, testY), verbose=0)\n",
        "\n",
        "# evaluate model\n",
        "accuracy = model.evaluate(testX, testY, verbose=1)\n",
        "print('Accuracy: ''> %.3f' % (accuracy * 100.0))"
      ],
      "execution_count": 0,
      "outputs": []
    },
    {
      "cell_type": "markdown",
      "metadata": {
        "id": "tftYDlPsT1rL",
        "colab_type": "text"
      },
      "source": [
        "# Conclusion\n",
        "\n",
        "Our data provides us with images that are scanned, data points are extracted and classified. Since we have 10 categories, the output layer has 10 nodes. We found that our images are square 32 x 32 images, we also found that it has 3 different channels. We utilize the value of 32 to build the shapes of our images. After loading our data, we normalize it by converting our values to floats and dividing each value by the maximum, which is 255. 255 is the value of a full color pixel. We then are able to implement our models. Our first model is our baseline model. Inspired by the Keras Documenation on CNN example, I created a model that utilizes three layers of our Conv2D layers. Where the the number of output filters in the convolution is 32, 64, and 128. With each new DNN, we added a new layer. The model defines the feature detector along with the functionality to interpret the features and make predictions of classification based on those features. A ReLU activation function was used because it is more effiecient than a standard sigmoid function. The optimizer function utilized is the SGD, Stochastic gradient descent. This is a variation of the gradient descent that updates for each training data point. This allows for a more accurate reading for each data point.\n",
        "The optimizer loss function utilized was the categorical cross entropy because we have multiple classes to consider to help watch the accuracy of our classification. \n",
        "The accuracies approximated are 10 or above, allowing it to be better than random guessing. \n",
        "\n",
        "\n",
        "\n"
      ]
    },
    {
      "cell_type": "markdown",
      "metadata": {
        "id": "C22Qx2yw9ap_",
        "colab_type": "text"
      },
      "source": [
        "#References\n",
        "\n",
        "1. [Your First Deep Learning Project in Python with Keras Step-by-Step](https://machinelearningmastery.com/tutorial-first-neural-network-python-keras/)\n",
        "\n",
        "2. [How to Configure the Number of Layers and Nodes in a Neural Network](https://machinelearningmastery.com/how-to-configure-the-number-of-layers-and-nodes-in-a-neural-network/)\n",
        "\n",
        "3. [ReLU Introduction](https://machinelearningmastery.com/rectified-linear-activation-function-for-deep-learning-neural-networks/)\n",
        "\n",
        "4. [Understanding Neural Networks](https://towardsdatascience.com/understanding-neural-networks-from-neuron-to-rnn-cnn-and-deep-learning-cd88e90e0a90)\n",
        "\n",
        "5. [Building a Convolutional Neural Network in Keras](https://towardsdatascience.com/building-a-convolutional-neural-network-cnn-in-keras-329fbbadc5f5)\n",
        "\n",
        "6. [Keras Documenation CNN](https://keras.io/examples/cifar10_cnn/)"
      ]
    }
  ]
}