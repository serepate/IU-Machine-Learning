{
  "nbformat": 4,
  "nbformat_minor": 0,
  "metadata": {
    "colab": {
      "name": "FinalProject.ipynb",
      "provenance": [],
      "collapsed_sections": [
        "9DAnan2Eo3yg"
      ]
    },
    "kernelspec": {
      "name": "python3",
      "display_name": "Python 3"
    }
  },
  "cells": [
    {
      "cell_type": "markdown",
      "metadata": {
        "id": "0tcliV4ekEEn",
        "colab_type": "text"
      },
      "source": [
        "#Machine Learning CSCI-B455 FINAL PROJECT\n",
        "\n",
        "By Katie Yoder & Serena Patel\n",
        "\n",
        "The goal of our final project was to answer the question, “Does the timing of the stay at home order affect the infection cases?” By utilizing the New York Times Coronavirus database, we were able to visually understand the data and predict a correlation, then to create a machine learning model for a linear regression model and an MLP Regression model. "
      ]
    },
    {
      "cell_type": "markdown",
      "metadata": {
        "id": "I5g7-UJqkJoF",
        "colab_type": "text"
      },
      "source": [
        "#Data Exploration\n",
        "\n",
        "Visualizing the data allowed us to see how the raw data looks, and how it looks in correlation to our question. In particular, we looked at the state level and county level data for the cases and deaths for each area. We access the NYT github and automatically pulled the latest data. "
      ]
    },
    {
      "cell_type": "code",
      "metadata": {
        "id": "v7Twoja2TeBE",
        "colab_type": "code",
        "outputId": "8d3e1897-1735-4dab-9dc8-2f6550d30a36",
        "colab": {
          "base_uri": "https://localhost:8080/",
          "height": 419
        }
      },
      "source": [
        "import numpy as np\n",
        "import pandas as pd\n",
        "import io\n",
        "import requests\n",
        "import matplotlib.pyplot as plt\n",
        "import seaborn as sns\n",
        "import time\n",
        "import datetime\n",
        "from datetime import date\n",
        "\n",
        "\n",
        "statedf = None\n",
        "countydf = None\n",
        "stateupdated = False\n",
        "countyupdated = False\n",
        "processed = False\n",
        "today = date.today()\n",
        "    \n",
        "\n",
        "print(\"Today is:\", today)\n",
        "    \n",
        "state_url=\"https://raw.githubusercontent.com/nytimes/covid-19-data/master/us-states.csv\"\n",
        "s=requests.get(state_url).content\n",
        "statedf = pd.read_csv(io.StringIO(s.decode('utf-8')))\n",
        "statedf['date'] =  pd.to_datetime(statedf['date'], format='%Y-%m-%d')\n",
        "stateupdated = True\n",
        "    \n",
        "\n",
        "county_url=\"https://raw.githubusercontent.com/nytimes/covid-19-data/master/us-counties.csv\"\n",
        "s=requests.get(county_url).content\n",
        "countydf = pd.read_csv(io.StringIO(s.decode('utf-8')))\n",
        "countydf['date'] =  pd.to_datetime(countydf['date'], format='%Y-%m-%d')\n",
        "countyupdated = True\n",
        "\n",
        "    \n",
        "\n",
        "if stateupdated:\n",
        "    print(\"First 5 rows of the state data\")\n",
        "    print(\"=\"*50)\n",
        "    print(statedf.head())\n",
        "if countyupdated:\n",
        "    print()\n",
        "    print(\"First 5 rows of the county data\")\n",
        "    print(\"=\"*50)\n",
        "    print(countydf.head())\n",
        "    \n",
        "\n",
        "pd.set_option('mode.chained_assignment', None)\n",
        "statedict = {}\n",
        "countydict = {}\n",
        "print(\"Processing...\")\n",
        "\n",
        "\n",
        "if stateupdated:\n",
        "  statelist = list(statedf['state'].unique())\n",
        "  for s in statelist:\n",
        "    state_df=statedf[statedf['state']==s]\n",
        "    state_df['newcases'] = state_df['cases'].diff()\n",
        "    state_df['newdeaths'] = state_df['deaths'].diff()\n",
        "    statedict[s]=state_df\n",
        "\n",
        "if countyupdated:\n",
        "  countylist = list(countydf['county'].unique())\n",
        "  for c in countylist:\n",
        "    county_df=countydf[countydf['county']==c]\n",
        "    county_df['newcases'] = county_df['cases'].diff()\n",
        "    county_df['newdeaths'] = county_df['deaths'].diff()\n",
        "    countydict[c]=county_df\n",
        "processed = True\n",
        "print(\"Finshed processing\")\n",
        "    \n",
        "\n",
        "\n",
        "        \n",
        "    "
      ],
      "execution_count": 2,
      "outputs": [
        {
          "output_type": "stream",
          "text": [
            "/usr/local/lib/python3.6/dist-packages/statsmodels/tools/_testing.py:19: FutureWarning: pandas.util.testing is deprecated. Use the functions in the public API at pandas.testing instead.\n",
            "  import pandas.util.testing as tm\n"
          ],
          "name": "stderr"
        },
        {
          "output_type": "stream",
          "text": [
            "Today is: 2020-05-05\n",
            "First 5 rows of the state data\n",
            "==================================================\n",
            "        date       state  fips  cases  deaths\n",
            "0 2020-01-21  Washington    53      1       0\n",
            "1 2020-01-22  Washington    53      1       0\n",
            "2 2020-01-23  Washington    53      1       0\n",
            "3 2020-01-24    Illinois    17      1       0\n",
            "4 2020-01-24  Washington    53      1       0\n",
            "\n",
            "First 5 rows of the county data\n",
            "==================================================\n",
            "        date     county       state     fips  cases  deaths\n",
            "0 2020-01-21  Snohomish  Washington  53061.0      1       0\n",
            "1 2020-01-22  Snohomish  Washington  53061.0      1       0\n",
            "2 2020-01-23  Snohomish  Washington  53061.0      1       0\n",
            "3 2020-01-24       Cook    Illinois  17031.0      1       0\n",
            "4 2020-01-24  Snohomish  Washington  53061.0      1       0\n",
            "Processing...\n",
            "Finshed processing\n"
          ],
          "name": "stdout"
        }
      ]
    },
    {
      "cell_type": "markdown",
      "metadata": {
        "id": "9DAnan2Eo3yg",
        "colab_type": "text"
      },
      "source": [
        "#State-wide cumulative cases and deaths\n",
        "\n",
        "Here, we just pulled the data for the state as a whole, and visualized the data to see how the cumulative cases and deaths grew. "
      ]
    },
    {
      "cell_type": "code",
      "metadata": {
        "id": "ybAGzV1kbmj3",
        "colab_type": "code",
        "outputId": "50db8ca0-154c-4931-c70f-f9e82fe64c12",
        "colab": {
          "base_uri": "https://localhost:8080/",
          "height": 342
        }
      },
      "source": [
        "state = 'Indiana'      \n",
        "s = str(state)\n",
        "df = statedict[s]\n",
        "        \n",
        "dates = df['date']\n",
        "cases = df['cases']\n",
        "deaths = df['deaths']\n",
        "newcases = df['newcases']\n",
        "newdeaths = df['newdeaths']\n",
        "        \n",
        "\n",
        "        \n",
        "plt.figure(figsize=(14,4))\n",
        "plt.title(\"Cumulative cases in {}\".format(s),fontsize=18)\n",
        "plt.bar(x=dates,height=cases,color='blue',edgecolor='k')\n",
        "plt.xticks(rotation=45,fontsize=14)\n",
        "plt.show()\n"
      ],
      "execution_count": 0,
      "outputs": [
        {
          "output_type": "display_data",
          "data": {
            "image/png": "[encoded data removed]",
            "text/plain": [
              "<Figure size 1008x288 with 1 Axes>"
            ]
          },
          "metadata": {
            "tags": [],
            "needs_background": "light"
          }
        }
      ]
    },
    {
      "cell_type": "code",
      "metadata": {
        "id": "NzMSLSaLpEXU",
        "colab_type": "code",
        "outputId": "2431592e-b6b6-4c69-ca12-c26c4e43b359",
        "colab": {
          "base_uri": "https://localhost:8080/",
          "height": 342
        }
      },
      "source": [
        "plt.title(\"Cumulative deaths in Indiana\".format(s),fontsize=18)\n",
        "plt.bar(x=dates,height=deaths,color='red',edgecolor='k')\n",
        "plt.xticks(rotation=45,fontsize=14)\n",
        "plt.show()"
      ],
      "execution_count": 0,
      "outputs": [
        {
          "output_type": "display_data",
          "data": {
            "image/png": "[encoded data removed]",
            "text/plain": [
              "<Figure size 432x288 with 1 Axes>"
            ]
          },
          "metadata": {
            "tags": [],
            "needs_background": "light"
          }
        }
      ]
    },
    {
      "cell_type": "markdown",
      "metadata": {
        "id": "J8BjVoieSrnq",
        "colab_type": "text"
      },
      "source": [
        "#Comparison Chart of Cumulative Number of Cases & Number of Deaths Over Time In Indiana\n",
        "\n",
        "This chart gives us a more comparable way to see the data. Above, we see how the cases and deaths grew individually in the state of Indiana. Here see the difference in growth between the two variables. While cases grow almost exponentially, the death rate is increasing gradually. "
      ]
    },
    {
      "cell_type": "code",
      "metadata": {
        "id": "q9UCSXK7SdQ4",
        "colab_type": "code",
        "outputId": "4f0d2f9e-2329-46e3-f0a8-d744f858e8fe",
        "colab": {
          "base_uri": "https://localhost:8080/",
          "height": 318
        }
      },
      "source": [
        "state = 'Indiana'      \n",
        "s = str(state)\n",
        "df = statedict[s]\n",
        "        \n",
        "dates = df['date']\n",
        "cases = df['cases']\n",
        "deaths = df['deaths']\n",
        "\n",
        "plt.figure(figsize=(14,4))\n",
        "plt.plot(dates, cases, label='cases')\n",
        "plt.plot(dates, deaths, label='deaths')\n",
        "plt.xlabel('Date')\n",
        "plt.ylabel('number')\n",
        "plt.title('Number of Cumulative Cases & Deaths')\n",
        "plt.grid(True)\n",
        "plt.legend()"
      ],
      "execution_count": 0,
      "outputs": [
        {
          "output_type": "execute_result",
          "data": {
            "text/plain": [
              "<matplotlib.legend.Legend at 0x7f5914d8d240>"
            ]
          },
          "metadata": {
            "tags": []
          },
          "execution_count": 32
        },
        {
          "output_type": "display_data",
          "data": {
            "image/png": "[encoded data removed]",
            "text/plain": [
              "<Figure size 1008x288 with 1 Axes>"
            ]
          },
          "metadata": {
            "tags": []
          }
        }
      ]
    },
    {
      "cell_type": "markdown",
      "metadata": {
        "id": "--aSnTluQwgB",
        "colab_type": "text"
      },
      "source": [
        "#County-based cumulative cases and deaths\n",
        "\n",
        "Here, we see a similar visualization of the data as the state-level data but we do it for the county-level data. We see that the shape for the data was similar, so that we can say that the county and state data are consistent, which shows that the county data contributes strongly to the state data."
      ]
    },
    {
      "cell_type": "code",
      "metadata": {
        "id": "hN1R1cT30E40",
        "colab_type": "code",
        "outputId": "b761ed8c-d8d9-4838-ce64-0e7577bf2df2",
        "colab": {
          "base_uri": "https://localhost:8080/",
          "height": 342
        }
      },
      "source": [
        "county = 'Marion'      \n",
        "s = str(county)\n",
        "df = countydict[s]\n",
        "        \n",
        "dates = df['date']\n",
        "cases = df['cases']\n",
        "deaths = df['deaths']\n",
        " \n",
        "plt.figure(figsize=(14,4))\n",
        "plt.title(\"Cumulative cases in {}\".format(s),fontsize=18)\n",
        "plt.bar(x=dates,height=cases,color='blue',edgecolor='k')\n",
        "plt.xticks(rotation=45,fontsize=14)\n",
        "plt.show()"
      ],
      "execution_count": 0,
      "outputs": [
        {
          "output_type": "display_data",
          "data": {
            "image/png": "[encoded data removed]",
            "text/plain": [
              "<Figure size 1008x288 with 1 Axes>"
            ]
          },
          "metadata": {
            "tags": [],
            "needs_background": "light"
          }
        }
      ]
    },
    {
      "cell_type": "code",
      "metadata": {
        "id": "pbxOHYHRQ8SQ",
        "colab_type": "code",
        "outputId": "2d05732f-b61d-4cbc-e34f-7b7c8ea94c5a",
        "colab": {
          "base_uri": "https://localhost:8080/",
          "height": 342
        }
      },
      "source": [
        "plt.figure(figsize=(14,4))\n",
        "plt.title(\"Cumulative deaths in Marion County\".format(s),fontsize=18)\n",
        "plt.bar(x=dates,height=deaths,color='red',edgecolor='k')\n",
        "plt.xticks(rotation=45,fontsize=14)\n",
        "plt.show()"
      ],
      "execution_count": 0,
      "outputs": [
        {
          "output_type": "display_data",
          "data": {
            "image/png": "[encoded data removed]",
            "text/plain": [
              "<Figure size 1008x288 with 1 Axes>"
            ]
          },
          "metadata": {
            "tags": [],
            "needs_background": "light"
          }
        }
      ]
    },
    {
      "cell_type": "code",
      "metadata": {
        "id": "Owo8oN8kiWD2",
        "colab_type": "code",
        "outputId": "2fb48bd3-2886-43ef-9246-e3ccbc560e13",
        "colab": {
          "base_uri": "https://localhost:8080/",
          "height": 372
        }
      },
      "source": [
        "county = 'Marion'      \n",
        "s = str(county)\n",
        "df1 = countydict[s]\n",
        "        \n",
        "dates = df1['date']\n",
        "cases = df1['cases']\n",
        "deaths = df1['deaths']\n",
        "\n",
        "county = 'Lake'      \n",
        "s = str(county)\n",
        "df2 = countydict[s]\n",
        "        \n",
        "dates2 = df2['date']\n",
        "cases2 = df2['cases']\n",
        "deaths2 = df2['deaths']\n",
        "\n",
        "plt.figure(figsize=(20,5))\n",
        "\n",
        "plt.plot(dates, cases, label='cases in Marion')\n",
        "\n",
        "plt.plot(dates2, cases2, label='cases in Lake')\n",
        "\n",
        "\n",
        "plt.xlabel('Date')\n",
        "plt.ylabel('number')\n",
        "plt.title('Number of Cumulative Cases & Deaths')\n",
        "plt.grid(True)\n",
        "plt.legend()\n"
      ],
      "execution_count": 0,
      "outputs": [
        {
          "output_type": "execute_result",
          "data": {
            "text/plain": [
              "<matplotlib.legend.Legend at 0x7f5911504f60>"
            ]
          },
          "metadata": {
            "tags": []
          },
          "execution_count": 39
        },
        {
          "output_type": "display_data",
          "data": {
            "image/png": "[encoded data removed]",
            "text/plain": [
              "<Figure size 1440x360 with 1 Axes>"
            ]
          },
          "metadata": {
            "tags": []
          }
        }
      ]
    },
    {
      "cell_type": "markdown",
      "metadata": {
        "id": "rMJ-IguPG7Fu",
        "colab_type": "text"
      },
      "source": [
        "#Data Analysis Conclusion\n",
        "\n",
        "From the above visualization, we were able to see how the data looks. We can examine that the state and county level data have similar shapes in the death rate and the cases. Since there clear exponential growth in the county and the state, the county contributes to the state data. We can make additional conclusions about the shape of the data for the states by comparing the shape of the data for the different states with the Indiana data."
      ]
    },
    {
      "cell_type": "code",
      "metadata": {
        "id": "Lf84f-j1IzrB",
        "colab_type": "code",
        "colab": {
          "base_uri": "https://localhost:8080/",
          "height": 312
        },
        "outputId": "e198df6d-9096-4491-c104-ab5aee5f3ff7"
      },
      "source": [
        "state = 'New York'      \n",
        "s = str(state)\n",
        "df = statedict[s]\n",
        "        \n",
        "dates = df['date']\n",
        "cases = df['cases']\n",
        "deaths = df['deaths']\n",
        "\n",
        "plt.figure(figsize=(14,4))\n",
        "plt.plot(dates, cases, label='cases')\n",
        "plt.plot(dates, deaths, label='deaths')\n",
        "plt.xlabel('Date')\n",
        "plt.ylabel('number')\n",
        "plt.title('Number of Cumulative Cases & Deaths')\n",
        "plt.grid(True)\n",
        "plt.legend()"
      ],
      "execution_count": 4,
      "outputs": [
        {
          "output_type": "execute_result",
          "data": {
            "text/plain": [
              "<matplotlib.legend.Legend at 0x7fb4d6fad860>"
            ]
          },
          "metadata": {
            "tags": []
          },
          "execution_count": 4
        },
        {
          "output_type": "display_data",
          "data": {
            "image/png": "[encoded data removed]",
            "text/plain": [
              "<Figure size 1008x288 with 1 Axes>"
            ]
          },
          "metadata": {
            "tags": [],
            "needs_background": "light"
          }
        }
      ]
    },
    {
      "cell_type": "code",
      "metadata": {
        "id": "s3QGlAO9I4oP",
        "colab_type": "code",
        "colab": {
          "base_uri": "https://localhost:8080/",
          "height": 312
        },
        "outputId": "5e9cd8f2-d6de-4b9e-b380-52d19e2a1012"
      },
      "source": [
        "state = 'California'      \n",
        "s = str(state)\n",
        "df = statedict[s]\n",
        "        \n",
        "dates = df['date']\n",
        "cases = df['cases']\n",
        "deaths = df['deaths']\n",
        "\n",
        "plt.figure(figsize=(14,4))\n",
        "plt.plot(dates, cases, label='cases')\n",
        "plt.plot(dates, deaths, label='deaths')\n",
        "plt.xlabel('Date')\n",
        "plt.ylabel('number')\n",
        "plt.title('Number of Cumulative Cases & Deaths')\n",
        "plt.grid(True)\n",
        "plt.legend()"
      ],
      "execution_count": 5,
      "outputs": [
        {
          "output_type": "execute_result",
          "data": {
            "text/plain": [
              "<matplotlib.legend.Legend at 0x7fb4d6ae3898>"
            ]
          },
          "metadata": {
            "tags": []
          },
          "execution_count": 5
        },
        {
          "output_type": "display_data",
          "data": {
            "image/png": "[encoded data removed]",
            "text/plain": [
              "<Figure size 1008x288 with 1 Axes>"
            ]
          },
          "metadata": {
            "tags": [],
            "needs_background": "light"
          }
        }
      ]
    },
    {
      "cell_type": "markdown",
      "metadata": {
        "id": "8u8MdI-wI8Qp",
        "colab_type": "text"
      },
      "source": [
        "From these charts, we can see how the data for the states have something in common, they all have an exponential or rapidly increasing rate of cases and a steady but increasing rate of date. We see that the shape for Indiana and New York are similar, but California has a more exponential pattern. \n",
        "\n",
        "We are able to examine the raw data to shape our machine learning model. "
      ]
    },
    {
      "cell_type": "markdown",
      "metadata": {
        "id": "feR8FUbCi9Kv",
        "colab_type": "text"
      },
      "source": [
        "#Resources:\n",
        "\n",
        "[Analyze NY Times COVID-19 Dataset](https://towardsdatascience.com/analyze-ny-times-covid-19-dataset-86c802164210)\n",
        "\n",
        "[NYT COVID-19 Dataset](https://github.com/nytimes/covid-19-data)"
      ]
    },
    {
      "cell_type": "markdown",
      "metadata": {
        "id": "siikCFcfpjIE",
        "colab_type": "text"
      },
      "source": [
        "# Linear Regression Models\n",
        "\n",
        "$\\textbf{1. Linear regression on state's data to predict number of cases}$ \\\\\n",
        "For our first model, we  used a linear regression on the us-state data with the number of cases on the first day of the Stay at Home order as the input, and Number of cases on May 1 as the target.\n",
        "\n",
        "We first plotted the regression using the raw numbers of cases and it looked like it had a logarithmic fit, so we tried log normalizing the data and that works pretty well with a linear regression. Using only the number of cases on the first day of the stay at home order by state, and the output value being the number of cases on May 1, we were able to get a testing RMSE of 0.7. This is not a perfect model, but for being so simple, seems to be a pretty good way to predict general trends for the number of future cases, by state."
      ]
    },
    {
      "cell_type": "code",
      "metadata": {
        "id": "FyYoZ1wtnzKw",
        "colab_type": "code",
        "outputId": "f5c9d80d-2b46-43ec-ea36-33defe9b2af1",
        "colab": {
          "base_uri": "https://localhost:8080/",
          "height": 649
        }
      },
      "source": [
        "from sklearn.linear_model import LinearRegression\n",
        "import pandas as pd\n",
        "import matplotlib.pyplot as plt\n",
        "from sklearn.model_selection import train_test_split \n",
        "import numpy as np\n",
        "from sklearn import metrics\n",
        "from sklearn import preprocessing \n",
        "\n",
        "path = 'drive/My Drive/Final_Proj/'\n",
        "\n",
        "file = path + 'covid-19-data-master/us-states.csv'\n",
        "file2 = path + 'Statewide-Stay-at-Home-Orders.csv'\n",
        "sah = pd.read_csv(file2)\n",
        "\n",
        "df = pd.read_csv(file)\n",
        "\n",
        "states = list(df.state.unique())\n",
        "states_rem = ['Puerto Rico', 'Guam', 'Northern Mariana Islands', 'Virgin Islands', 'Arkansas',\\\n",
        "              'Iowa', 'Nebraska', 'North Dakota', 'Oklahoma', 'South Carolina', 'South Dakota',\\\n",
        "              'Utah', 'Wyoming', 'Hawaii']\n",
        "\n",
        "for state in states_rem:\n",
        "    states.remove(state)\n",
        "\n",
        "## Log normalize the data\n",
        "x = df['cases'].values\n",
        "x_log = np.log(x)\n",
        "df_case = pd.DataFrame(x_log)\n",
        "df['cases'] = df_case\n",
        "\n",
        "print(df.head(5))\n",
        "\n",
        "################### States: #########################\n",
        "\n",
        "\n",
        "def get_data_features(state):\n",
        "    \n",
        "    state_data = df.loc[df['state'] == state]\n",
        "    \n",
        "    sah_state = sah.loc[sah['State'] == state] #pull state SAH order date by matching state name\n",
        "    sah_date = sah_state.iloc[0]['Effective Date'] #isolate SAH order date\n",
        "\n",
        "    idx = np.where(state_data['date'] == sah_date) #find the index where SAH order starts in state data\n",
        "    df_slice = state_data.iloc[idx[0][0] : len(state_data)] #slice state data so it starts with SAH order date\n",
        "\n",
        "##    x = np.arange(0, len(df_slice)) #list dates on x-axis as int starting with 0\n",
        "    slice_list = list(df_slice['cases']) # turn slice into a list\n",
        "   \n",
        "    x = slice_list[0] # num on first day of SAH\n",
        "    #x = len(state_data) - len(df_slice) # num of days between first case and SAH order\n",
        "    y = slice_list[-1] #num cases on May1\n",
        "  \n",
        "    return x, y\n",
        "\n",
        "x_vals = []\n",
        "y_vals = []\n",
        "\n",
        "for state in states:\n",
        "    x, y = get_data_features(state)\n",
        "    x_vals.append(x)\n",
        "    y_vals.append(y)\n",
        "\n",
        "\n",
        "x_np = np.array(x_vals)\n",
        "y_np = np.array(y_vals)\n",
        "\n",
        "X = x_np.reshape(-1, 1)\n",
        "y = y_np.reshape(-1, 1)\n",
        "\n",
        "#separate data into training and testing values\n",
        "X_train, X_test, y_train, y_test = train_test_split(X, y, test_size=0.2, random_state=0)\n",
        "\n",
        "# train the model\n",
        "reg = LinearRegression()  \n",
        "reg.fit(X_train, y_train) \n",
        "\n",
        "# y_intercept\n",
        "print(reg.intercept_)\n",
        "\n",
        "#slope\n",
        "print(reg.coef_)\n",
        "\n",
        "prediction = reg.predict(X_test)\n",
        "\n",
        "compare = pd.DataFrame({'Output': y_test.flatten(), 'Predicted': prediction.flatten()})\n",
        "print(compare)\n",
        "\n",
        "plt.scatter(X_test, y_test,  color='tab:blue')\n",
        "plt.plot(X_test, prediction, color='tab:red')\n",
        "plt.xlabel(\"Log of Number of Cases on 1st Day of SAH Order\")\n",
        "plt.ylabel(\"Log of Number of Cases on May 1st\")\n",
        "plt.show()\n",
        "\n",
        "print(\"---------- Evaluation of Testing Data ----------\")\n",
        "print('Mean Absolute Error Test:', metrics.mean_absolute_error(y_test, prediction))  \n",
        "print('Mean Squared Error Test:', metrics.mean_squared_error(y_test, prediction))  \n",
        "print('Root Mean Squared Error Test:', np.sqrt(metrics.mean_squared_error(y_test, prediction)))\n",
        "\n"
      ],
      "execution_count": 0,
      "outputs": [
        {
          "output_type": "stream",
          "text": [
            "        date    state  fips     cases  deaths\n",
            "0  3/13/2020  Alabama     1  1.791759       0\n",
            "1  3/14/2020  Alabama     1  2.484907       0\n",
            "2  3/15/2020  Alabama     1  3.135494       0\n",
            "3  3/16/2020  Alabama     1  3.367296       0\n",
            "4  3/17/2020  Alabama     1  3.663562       0\n",
            "[3.90225505]\n",
            "[[0.80311506]]\n",
            "      Output  Predicted\n",
            "0   7.745003   8.103437\n",
            "1  10.320189  10.723031\n",
            "2   9.298534   9.663153\n",
            "3   9.658929   9.738354\n",
            "4   7.540622   7.766993\n",
            "5   7.855157   8.120435\n",
            "6   8.164226   7.600737\n",
            "7  10.934089   9.220006\n",
            "8   6.778785   7.559542\n"
          ],
          "name": "stdout"
        },
        {
          "output_type": "display_data",
          "data": {
            "image/png": "[encoded data removed]",
            "text/plain": [
              "<Figure size 432x288 with 1 Axes>"
            ]
          },
          "metadata": {
            "tags": [],
            "needs_background": "light"
          }
        },
        {
          "output_type": "stream",
          "text": [
            "---------- Evaluation of Testing Data ----------\n",
            "Mean Absolute Error Test: 0.5283665257014313\n",
            "Mean Squared Error Test: 0.490756759844778\n",
            "Root Mean Squared Error Test: 0.7005403342026625\n"
          ],
          "name": "stdout"
        }
      ]
    },
    {
      "cell_type": "markdown",
      "metadata": {
        "id": "h5UT1BlI3Bdc",
        "colab_type": "text"
      },
      "source": [
        "$\\textbf{2. Linear Regression on Indiana Counties Data}$ \\\\\n",
        "\n",
        "For our next models, we wanted to use county data since this had more data points for each state. Specifically, we wanted to take a closer look at the data from Indiana.  \\\\\n",
        "\n",
        "**Using Regression Model of Rest of Indiana Counties to Make Predictions about Monroe County**\n",
        "\n",
        "For this model, we perform another linear regression using the number of cases two weeks prior to May 1 (April 17) to make predictions about number of cases on May 1. Using all counties except for Monroe County, we split the data into training and testing sets with 5-fold cross validation, and kept Monroe County as a separate test data to get predictons. We used 5-fold cross validation with similar results each time, getting an average RMSE value of 0.53.\n",
        "We decided to use a linear regression after plotting different features of the data againts itself and noticing the fit of the line resembled a logarithmic slope. We used logarithmic transofrmation for the number of cases column in the data in order to normalize it. When using this normalized data with our regression model, we were able to get a pretty good linear fit that could somewhat accurately predict. \n",
        "\n",
        "After training this model, we used a couple of data points as predictors to see how well it peformed. First, we used the number of cases on the same date that the rest of the data was trained on (April 17) as input for Monroe County, to compare the predicted value with the known target for the number of cases on May 1. The target value for this data point was 4.84 (which translates to 126 cases on a non-logarithmic scale), and the predicted output was 5.24 (about 188 cases on a non-logarithmic scale). This produces a standard deviation of about 31 cases, which is not very accurate but is able to give a genral prediction of the trends. "
      ]
    },
    {
      "cell_type": "code",
      "metadata": {
        "id": "DG0Oo7_D9_CR",
        "colab_type": "code",
        "outputId": "ceff6e67-454e-44c9-8dcb-5dfad55bdc95",
        "colab": {
          "base_uri": "https://localhost:8080/",
          "height": 1000
        }
      },
      "source": [
        "import matplotlib.pyplot as plt\n",
        "import numpy as np\n",
        "from numpy import polyfit\n",
        "import pandas as pd\n",
        "from matplotlib import style\n",
        "from sklearn import preprocessing\n",
        "from sklearn.linear_model import LinearRegression\n",
        "from sklearn import metrics\n",
        "from sklearn.metrics import mean_squared_error, r2_score\n",
        "from sklearn.model_selection import KFold\n",
        "from sklearn.preprocessing import PolynomialFeatures\n",
        "\n",
        "path = 'drive/My Drive/Final_Proj/'\n",
        "file = path + 'us-counties.csv'\n",
        "file2 = path + 'Statewide-Stay-at-Home-Orders.csv'\n",
        "sah = pd.read_csv(file2)\n",
        "df = pd.read_csv(file)\n",
        "\n",
        "## Log normalize the data\n",
        "x = df['cases'].values\n",
        "x_log = np.log(x)\n",
        "df_case = pd.DataFrame(x_log)\n",
        "df['cases'] = df_case\n",
        "\n",
        "def get_data_features(county, state, state_data):\n",
        "    county_data = state_data.loc[state_data['county'] == county] #isolate dataframe for just that county\n",
        "\n",
        "    cases = list(county_data['cases'])\n",
        "    if len(cases) >= 14:\n",
        "      x1 = cases[-14] #num cases two weeks ago\n",
        "      y = cases[-1] #num cases on May 1\n",
        "    else:\n",
        "      x1 = 0\n",
        "      y = 0\n",
        "    return x1, y\n",
        "\n",
        "\n",
        "X_data = []\n",
        "y_data = []\n",
        "\n",
        "# Leave Monroe County out of data for making preditions\n",
        "X_mon = []\n",
        "y_mon = []\n",
        "\n",
        "state = 'Indiana'\n",
        "state_data = df[df.state == state]\n",
        "counties  = list(state_data.county.unique())\n",
        "\n",
        "for county in counties:\n",
        "\n",
        "    x1, y = get_data_features(county, state, state_data)\n",
        "\n",
        "    if county == 'Monroe':\n",
        "      X_mon.append(x1)\n",
        "      y_mon.append(y)\n",
        "    else:\n",
        "      X_data.append(x1)\n",
        "      y_data.append(y)\n",
        "\n",
        "\n",
        "## 5-fold CV\n",
        "\n",
        "def get_split(X, y, split_val):\n",
        "  X_train = []\n",
        "  y_train = []\n",
        "  X_test = []\n",
        "  y_test = []\n",
        "\n",
        "  for i in range(len(X)):\n",
        "    if i%5 == split_val:\n",
        "      X_test.append(X[i])\n",
        "      y_test.append(y[i])\n",
        "    else:\n",
        "      X_train.append(X[i])\n",
        "      y_train.append(y[i])\n",
        "    \n",
        "\n",
        "  X_train = np.array(X_train)\n",
        "  y_train = np.array(y_train)\n",
        "  X_test = np.array(X_test)\n",
        "  y_test = np.array(y_test)\n",
        "\n",
        "  X_train = X_train.reshape(-1, 1)\n",
        "  y_train = y_train.reshape(-1, 1)\n",
        "  X_test = X_test.reshape(-1, 1)\n",
        "  y_test = y_test.reshape(-1, 1)\n",
        "\n",
        "  return X_train, X_test, y_train, y_test\n",
        "\n",
        "\n",
        "def get_linear_reg(X_train, X_test, y_train, y_test): \n",
        "\n",
        "  # train the model\n",
        "  reg = LinearRegression()  \n",
        "  reg.fit(X_train, y_train) \n",
        "\n",
        "  # y_intercept\n",
        "  print(reg.intercept_)\n",
        "\n",
        "  #slope\n",
        "  print(reg.coef_)\n",
        "\n",
        "  prediction = reg.predict(X_test)\n",
        "\n",
        "  compare = pd.DataFrame({'Target': y_test.flatten(), 'Predicted': prediction.flatten()})\n",
        "  print(compare.head(10))\n",
        "\n",
        "  plt.scatter(X_test, y_test,  color='tab:blue')\n",
        "  plt.plot(X_test, prediction, color='tab:red')\n",
        "  plt.xlabel(\"Log of # cases 14 days before May 1\")\n",
        "  plt.ylabel(\"Log of # cases on May 1\")\n",
        "  plt.title(\"Predicting Cases for Monroe County\")\n",
        "  plt.show()\n",
        "\n",
        "  print(\"\\n---------- Evaluate Regression Model Testing ----------\")\n",
        "  print('Mean Absolute Error Test:', metrics.mean_absolute_error(y_test, prediction))  \n",
        "  print('Mean Squared Error Test:', metrics.mean_squared_error(y_test, prediction))  \n",
        "  print('Root Mean Squared Error Test:', np.sqrt(metrics.mean_squared_error(y_test, prediction)))\n",
        "  \n",
        "  return \n",
        "\n",
        "for i in range(5):\n",
        "  print(\"\\nTRAINING/TESTING FOR SPLIT\", i+1)\n",
        "  print(\"\\n\")\n",
        "\n",
        "  X_train1, X_test1, y_train1, y_test1 = get_split(X_data, y_data, i)\n",
        "  get_linear_reg(X_train1, X_test1, y_train1, y_test1)\n",
        "\n",
        "\n",
        "print(\"\\n---------- Making Predictions with Model ----------\")\n",
        "\n",
        "# Make predictions about Monroe county\n",
        "x_predict2 = np.array(X_mon)\n",
        "y_predict2 = np.array(y_mon)\n",
        "\n",
        "x_predict2 = x_predict2.reshape(-1, 1)\n",
        "y_predict2 = y_predict2.reshape(-1, 1)\n",
        "\n",
        "## Try to make prediction about values 2 weeks from now (May 15)\n",
        "\n",
        "x_predict3 = np.array(4.83) ## log of num cases on May 1 as input\n",
        "x_predict3 = x_predict3.reshape(-1, 1)\n",
        "\n",
        "prediction2 = reg.predict(x_predict2)\n",
        "\n",
        "compare2 = pd.DataFrame({'Target': y_predict2.flatten(), 'Predicted': prediction2.flatten()})\n",
        "print(\"Given number of cases on April 17, target (known) vs. Predicted cases on May 1\")\n",
        "print(compare2)\n",
        "print(\"\\n\")\n",
        "\n",
        "prediction3 = reg.predict(x_predict3)\n",
        "\n",
        "compare3 = pd.DataFrame({'Target': '---', 'Predicted': prediction3.flatten()})\n",
        "print(\"Given number of cases on May 1, predicting number of cases there will be on May 15\")\n",
        "print(compare3)\n",
        "\n"
      ],
      "execution_count": 0,
      "outputs": [
        {
          "output_type": "stream",
          "text": [
            "/usr/local/lib/python3.6/dist-packages/ipykernel_launcher.py:21: RuntimeWarning: divide by zero encountered in log\n"
          ],
          "name": "stderr"
        },
        {
          "output_type": "stream",
          "text": [
            "\n",
            "TRAINING/TESTING FOR SPLIT 1\n",
            "\n",
            "\n",
            "[0.92164361]\n",
            "[[0.91583161]]\n",
            "     Target  Predicted\n",
            "0  1.945910   2.703770\n",
            "1  5.241747   5.516627\n",
            "2  2.995732   3.401762\n",
            "3  5.298317   5.603364\n",
            "4  3.332205   3.709913\n",
            "5  1.945910   2.395618\n",
            "6  4.859812   4.990364\n",
            "7  5.056246   4.979526\n",
            "8  6.423247   6.392647\n",
            "9  5.411646   5.407240\n"
          ],
          "name": "stdout"
        },
        {
          "output_type": "display_data",
          "data": {
            "image/png": "[encoded data removed]",
            "text/plain": [
              "<Figure size 432x288 with 1 Axes>"
            ]
          },
          "metadata": {
            "tags": [],
            "needs_background": "light"
          }
        },
        {
          "output_type": "stream",
          "text": [
            "\n",
            "---------- Evaluate Regression Model Testing ----------\n",
            "Mean Absolute Error Test: 0.3402703535771156\n",
            "Mean Squared Error Test: 0.22989152175224534\n",
            "Root Mean Squared Error Test: 0.4794700426014594\n",
            "\n",
            "TRAINING/TESTING FOR SPLIT 2\n",
            "\n",
            "\n",
            "[0.88923483]\n",
            "[[0.92258783]]\n",
            "     Target  Predicted\n",
            "0  6.376727   6.129693\n",
            "1  2.772589   3.323997\n",
            "2  3.806662   3.447191\n",
            "3  2.995732   3.255626\n",
            "4  5.204007   5.428349\n",
            "5  4.927254   4.586352\n",
            "6  6.552508   6.494275\n",
            "7  3.496508   3.698074\n",
            "8  2.995732   3.503123\n",
            "9  4.595120   4.896777\n"
          ],
          "name": "stdout"
        },
        {
          "output_type": "display_data",
          "data": {
            "image/png": "[encoded data removed]",
            "text/plain": [
              "<Figure size 432x288 with 1 Axes>"
            ]
          },
          "metadata": {
            "tags": [],
            "needs_background": "light"
          }
        },
        {
          "output_type": "stream",
          "text": [
            "\n",
            "---------- Evaluate Regression Model Testing ----------\n",
            "Mean Absolute Error Test: 0.35608734816845566\n",
            "Mean Squared Error Test: 0.17628433051785497\n",
            "Root Mean Squared Error Test: 0.41986227565459483\n",
            "\n",
            "TRAINING/TESTING FOR SPLIT 3\n",
            "\n",
            "\n",
            "[0.82136268]\n",
            "[[0.9333947]]\n",
            "     Target  Predicted\n",
            "0  5.564520   5.371846\n",
            "1  3.178054   2.493781\n",
            "2  2.833213   3.140761\n",
            "3  5.204007   5.041976\n",
            "4  2.484907   2.323603\n",
            "5  4.499810   4.310084\n",
            "6  3.688879   3.964379\n",
            "7  2.772589   2.762302\n",
            "8  3.583519   3.706525\n",
            "9  6.059123   6.214193\n"
          ],
          "name": "stdout"
        },
        {
          "output_type": "display_data",
          "data": {
            "image/png": "[encoded data removed]",
            "text/plain": [
              "<Figure size 432x288 with 1 Axes>"
            ]
          },
          "metadata": {
            "tags": [],
            "needs_background": "light"
          }
        },
        {
          "output_type": "stream",
          "text": [
            "\n",
            "---------- Evaluate Regression Model Testing ----------\n",
            "Mean Absolute Error Test: 0.2773356700858603\n",
            "Mean Squared Error Test: 0.12298964277785412\n",
            "Root Mean Squared Error Test: 0.35069879209637167\n",
            "\n",
            "TRAINING/TESTING FOR SPLIT 4\n",
            "\n",
            "\n",
            "[0.88810397]\n",
            "[[0.91563769]]\n",
            "     Target  Predicted\n",
            "0  2.079442   2.157447\n",
            "1  7.101676   4.506012\n",
            "2  3.850148   3.971327\n",
            "3  3.135494   3.304524\n",
            "4  4.574711   4.998069\n",
            "5  6.677083   6.687094\n",
            "6  5.170484   4.751644\n",
            "7  3.367296   3.534637\n",
            "8  3.218876   3.367697\n",
            "9  8.657651   8.392060\n"
          ],
          "name": "stdout"
        },
        {
          "output_type": "display_data",
          "data": {
            "image/png": "[encoded data removed]",
            "text/plain": [
              "<Figure size 432x288 with 1 Axes>"
            ]
          },
          "metadata": {
            "tags": [],
            "needs_background": "light"
          }
        },
        {
          "output_type": "stream",
          "text": [
            "\n",
            "---------- Evaluate Regression Model Testing ----------\n",
            "Mean Absolute Error Test: 0.33865069479654386\n",
            "Mean Squared Error Test: 0.43552927641980893\n",
            "Root Mean Squared Error Test: 0.659946419355245\n",
            "\n",
            "TRAINING/TESTING FOR SPLIT 5\n",
            "\n",
            "\n",
            "[0.69871959]\n",
            "[[0.96517091]]\n",
            "     Target  Predicted\n",
            "0  2.079442   2.428074\n",
            "1  5.755742   5.597130\n",
            "2  4.762174   4.727717\n",
            "3  5.680173   5.521884\n",
            "4  3.401197   2.252102\n",
            "5  5.424950   5.433148\n",
            "6  2.197225   2.428074\n",
            "7  4.356709   4.697553\n",
            "8  7.564757   7.453478\n",
            "9  3.401197   3.682104\n"
          ],
          "name": "stdout"
        },
        {
          "output_type": "display_data",
          "data": {
            "image/png": "[encoded data removed]",
            "text/plain": [
              "<Figure size 432x288 with 1 Axes>"
            ]
          },
          "metadata": {
            "tags": [],
            "needs_background": "light"
          }
        },
        {
          "output_type": "stream",
          "text": [
            "\n",
            "---------- Evaluate Regression Model Testing ----------\n",
            "Mean Absolute Error Test: 0.4518982173681399\n",
            "Mean Squared Error Test: 0.5598656033022205\n",
            "Root Mean Squared Error Test: 0.748241674395526\n",
            "\n",
            "---------- Making Predictions with Model ----------\n",
            "Given number of cases on April 17, target (known) vs. Predicted cases on May 1\n",
            "     Target  Predicted\n",
            "0  4.836282   5.243083\n",
            "\n",
            "\n",
            "Given number of cases on May 1, predicting number of cases there will be on May 15\n",
            "  Target  Predicted\n",
            "0    ---   5.338573\n"
          ],
          "name": "stdout"
        }
      ]
    },
    {
      "cell_type": "markdown",
      "metadata": {
        "id": "LgFqmtXSWBs7",
        "colab_type": "text"
      },
      "source": [
        "# Using MLP Regression to Make Predictions About How the Stay At Home Order Affects Daily Rate of Infection\n",
        "\n",
        "In the previous model, we used a linear regression to determine if the number of cases on a specific date could be used to predict the number of cases on a later date. While this was able to predict a general trend, we wanted to look more closely at the rate of change in cases prior to the stay at home order and after the stay at home order to see if the number of cases on a later date is dependent on either these values. By looking at these values and the ability of the model to predict, this may be able to give preliminary data about whether the stay at home order is effective in slowing the number of cases yet. Since we are only looking at the about a month after many of these stay at home orders were put into effect, it may be too early to observe much of a trend. \\\\\n",
        "\n",
        "Since we wanted to use more features than just one, we decided to use the MLP as a linear regression this time. This model incorporates a 3 layer densely connected network, with an input layer of 2 nodes, a hidden layer of 6 nodes, and an output layer of one node. The hidden layer uses the ReLU activation function, and the output layer uses a linear activation function to be able to predict a continuous value. The model aslo uses stochastic gradient descent as an optimizer, and MSE as the loss function, since we are running a linear regression. \\\\\n",
        "\n",
        "This model is trained separately on two different inputs. The first input is the number of cases on the day the stay at home order goes into effect and the average daily infection rate for the 10 days prior to the stay at home order going into effect. The second input is also the number of cases on the first day of the stay at home order, and the average daily infection rate for the 14-24 days after the stay at home order is put in place. Both models use the number of cases on May 1 as the target output. \\\\\n",
        "\n",
        "The result of the first model had a training MSE of 1.36 and a testing MSE of 1.59. The result of the second model had a training MSE of 0.79 and a testing MSE of 1.46.\n",
        "  "
      ]
    },
    {
      "cell_type": "code",
      "metadata": {
        "colab_type": "code",
        "outputId": "33685db5-e4fd-4fc6-8d5c-8af2c8824ee1",
        "id": "QYh2SEghHkoh",
        "colab": {
          "base_uri": "https://localhost:8080/",
          "height": 269
        }
      },
      "source": [
        "from sklearn.linear_model import LinearRegression\n",
        "import pandas as pd\n",
        "import matplotlib.pyplot as plt\n",
        "from sklearn.model_selection import train_test_split \n",
        "import numpy as np\n",
        "from sklearn import metrics\n",
        "\n",
        "path = 'drive/My Drive/Final_Proj/'\n",
        "\n",
        "file = path + 'covid-19-data-master/us-counties.csv'\n",
        "file2 = path + 'Statewide-Stay-at-Home-Orders.csv'\n",
        "sah = pd.read_csv(file2)\n",
        "\n",
        "df = pd.read_csv(file)\n",
        "\n",
        "\n",
        "## Log normalize the data\n",
        "x = df['cases'].values\n",
        "x_log = np.log(x)\n",
        "df_case = pd.DataFrame(x_log)\n",
        "df['cases'] = df_case\n",
        "\n",
        "\n",
        "states = list(df.state.unique())\n",
        "states_rem = ['Puerto Rico', 'Guam', 'Northern Mariana Islands', 'Virgin Islands', 'Arkansas',\\\n",
        "              'Iowa', 'Nebraska', 'North Dakota', 'Oklahoma', 'South Carolina', 'South Dakota',\\\n",
        "              'Utah', 'Wyoming', 'Hawaii']\n",
        "\n",
        "for state in states_rem:\n",
        "    states.remove(state)\n",
        "\n",
        "\n",
        "################### States: #########################\n",
        "\n",
        "\n",
        "def get_data_features(county, state, state_data, val):\n",
        "\n",
        "    county_data = state_data.loc[state_data['county'] == county] #isolate dataframe for just that county\n",
        "\n",
        "    \n",
        "    sah_state = sah.loc[sah['State'] == state] #pull state SAH order date by matching state name\n",
        "    sah_date = sah_state.iloc[0]['Effective Date'] #isolate SAH order date\n",
        "\n",
        "    cases = list(county_data['cases'])\n",
        "    idx = np.where(state_data['date'] == sah_date) #find the index where SAH order starts in state data\n",
        "    df_slice = county_data.iloc[idx[0][0] : len(county_data)] #slice state data so it starts with SAH order date\n",
        "    \n",
        "    slice_list = list(df_slice['cases']) # y-axis is num of cases\n",
        "    dif = len(cases) -  len(slice_list) #num days between first cases and first day of SAH\n",
        "\n",
        "    if len(slice_list) > 34 and len(cases) - dif >= 10 :\n",
        "      x1 = cases[dif - 10] # num cases 10 days before SAH\n",
        "      x2 = cases[dif] # num cases on SAH\n",
        "      x3 = cases[dif + 14]  #num cases 2 weeks after SAH\n",
        "      x4 = cases[dif + 24] # num cases 1 mo after SAH\n",
        "\n",
        "      r1 = np.sqrt((x2 - x1)**2/ 10)  #average daily rate over 10 days beofre SAH\n",
        "      r2 = np.sqrt((x3 - x2)**2 / 14)   #average daily rate over 2 weeks after SAH\n",
        "      r3 = np.sqrt((x4 - x2)**2 / 24)   #average daily rate of cahnge between 14-24 days after SAH\n",
        "\n",
        "      if val == 1:\n",
        "        x1 = r1\n",
        "      elif val == 2:\n",
        "        x1 = r3\n",
        "\n",
        "      x2 = cases[dif] # cases on day of SAH\n",
        "      y = cases[-1] #num cases on May 1\n",
        "      #y = r3 \n",
        "    \n",
        "    else:\n",
        "      x = 0\n",
        "      r2 = 0\n",
        "      r3 = 0\n",
        "      x1 = 0\n",
        "      x2 = 0\n",
        "      y = 0\n",
        "       \n",
        "    return  x1, x2, y\n",
        "\n",
        " \n",
        "x_vals = []\n",
        "y_vals = []\n",
        "\n",
        "bad=[]\n",
        "\n",
        "#state = \"Indiana\"\n",
        "for state in states:\n",
        "  state_data = df[df.state == state]\n",
        "  counties  = list(state_data.county.unique())\n",
        "\n",
        "  for county in counties:\n",
        "      x1, x2, y = get_data_features(county, state, state_data, 1)\n",
        "      if y == 0:\n",
        "        bad.append(x)\n",
        "\n",
        "      else:\n",
        "        x_vals.append([x1, x2])\n",
        "        y_vals.append(np.array(y))\n",
        "\n",
        "  x_np = np.array(x_vals)\n",
        "  y_np = np.array(y_vals)\n",
        "\n",
        "\n",
        "x_vals2 = []\n",
        "y_vals2 = []\n",
        "\n",
        "bad=[]\n",
        "\n",
        "#state = \"Indiana\"\n",
        "for state in states:\n",
        "  state_data = df[df.state == state]\n",
        "  counties  = list(state_data.county.unique())\n",
        "\n",
        "  for county in counties:\n",
        "      x1, x2, y = get_data_features(county, state, state_data, 2)\n",
        "      if y == 0:\n",
        "        bad.append(x)\n",
        "\n",
        "      else:\n",
        "        x_vals2.append([x1, x2])\n",
        "        y_vals2.append(np.array(y))\n",
        "\n",
        "  x_np2 = np.array(x_vals2)\n",
        "  y_np2 = np.array(y_vals2)\n",
        "\n",
        "#separate data into training and testing values\n",
        "X_train, X_test, y_train, y_test = train_test_split(x_np, y_np, test_size=0.2, random_state=0)\n",
        "X_train2, X_test2, y_train2, y_test2 = train_test_split(x_np2, y_np2, test_size=0.2, random_state=0)\n",
        "\n",
        "import tensorflow as tf \n",
        "from tensorflow import keras\n",
        "from keras.models import Sequential \n",
        "from keras.layers import Dense, Flatten\n",
        "\n",
        "def run_model(X_train, X_test, y_train, y_test):\n",
        "  model = Sequential()\n",
        "  model.add(Dense(6, input_shape=(2,), activation= 'relu'))\n",
        "  model.add(Dense(1, activation='linear'))   \n",
        "\n",
        "  ## Compile the model\n",
        "  model.compile(optimizer='SGD', loss='mean_squared_error')\n",
        "\n",
        "  ## Fit the model\n",
        "  fit = model.fit(X_train, y_train, epochs=20, validation_data=(X_test, y_test), verbose=0)\n",
        "  \n",
        "  # Evaluate the Model\n",
        "  train_mse = model.evaluate(X_train, y_train, verbose=0)\n",
        "  test_mse = model.evaluate(X_test, y_test, verbose=0)\n",
        "\n",
        "  print(\"\\nTraining Mean Squared Error:\", train_mse)\n",
        "  #print(\"Training Accuracy:\", train_accuracy)\n",
        "  #print(\"\\n\")\n",
        "  print(\"Testing Mean Squared Error:\", test_mse)\n",
        "  #print(\"Testing Accuracy:\", test_accuracy)\n",
        "\n",
        "print(\"\\nEvaluation of Model 1:\")\n",
        "print(\"Model trained on number of cases on first day of SAH Order and \\n rate of change for each day 10 days prior to SAH\")\n",
        "run_model(X_train, X_test, y_train, y_test)\n",
        "\n",
        "print(\"\\nEvaluation of Model 2:\")\n",
        "print(\"Model trained on number of cases on first day of SAH Order and \\n rate of change for each day 14-24 days after SAH\")\n",
        "run_model(X_train2, X_test2, y_train2, y_test2)"
      ],
      "execution_count": 0,
      "outputs": [
        {
          "output_type": "stream",
          "text": [
            "/usr/local/lib/python3.6/dist-packages/ipykernel_launcher.py:19: RuntimeWarning: divide by zero encountered in log\n"
          ],
          "name": "stderr"
        },
        {
          "output_type": "stream",
          "text": [
            "\n",
            "Evaluation of Model 1:\n",
            "Model trained on number of cases on first day of SAH Order and \n",
            " rate of change for each day 10 days prior to SAH\n",
            "\n",
            "Training Mean Squared Error: 1.366345007122193\n",
            "Testing Mean Squared Error: 1.5962573800768172\n",
            "\n",
            "Evaluation of Model 2:\n",
            "Model trained on number of cases on first day of SAH Order and \n",
            " rate of change for each day 14-24 days after SAH\n",
            "\n",
            "Training Mean Squared Error: 0.7936570609724799\n",
            "Testing Mean Squared Error: 1.4612476515168904\n"
          ],
          "name": "stdout"
        }
      ]
    },
    {
      "cell_type": "markdown",
      "metadata": {
        "id": "XsUXTM6S2e-H",
        "colab_type": "text"
      },
      "source": [
        "**Making Predictions about the amount of time between first COVID-19 case in a county and stay at home order going into effect**\n",
        "\n",
        "For one last model, we implemented a similar neural network as in the previous section except that the number of nodes in the input and output layer are both 3, and the new model is performing a categorical classification so we used the softmax activation function on the output. \\\\\n",
        "\n",
        "The model was trained on inputs with 3 features: the rate of cases 10 days prior to the the stay at home order going into effect, the rate of cases 14-24 days after the stay at home order going into effect, and the number of cases on May 1. The output is three categories, which represent the number of days between a county's first confirmed case of COVID-19 and th day the stay at home order went into effect. Category 1 is the order went into effect within 0-6 days after the first case, category 2 is the order went into effect 7-13 days after the first case, and category 3 is 14 or more days after the first confirmed case. The output is a vector of length 3, one-hot encoded to contain a single 1 in the index of the category the output value represents. \\\\\n",
        "\n",
        "The intent of this model was to determine if the rate of cases could predict how early a stay at home order was put into effect by the state. If this model could reflect this, it may indicate that the rate of cases are dependent on the timing of the social distancing order. \\\\\n",
        "\n",
        "After five-fold cross validation, the average training and testing accuracies for our model were: \\\\\n",
        "\n",
        "**Average training accuracy:** 49.0% \\\\\n",
        "**Average testing:** 47.2% \n",
        "\n",
        "These results are not very good, but are better than random guessing. If the timing of the SAH order is able to be categorized by the rate of daily cases and the number of cases on a later date after the stay at home order is in place, it may be plausible that the timing of the stay at home order correlates with how many cases there are at a later time. This would need to be explored further with different models and different features, and as more data becomes available over time to have more meaningful results. "
      ]
    },
    {
      "cell_type": "code",
      "metadata": {
        "colab_type": "code",
        "outputId": "7e488225-c133-4fe6-b9a6-30daf7e18baf",
        "id": "atMNdW0uCQaZ",
        "colab": {
          "base_uri": "https://localhost:8080/",
          "height": 907
        }
      },
      "source": [
        "from sklearn.linear_model import LinearRegression\n",
        "import pandas as pd\n",
        "import matplotlib.pyplot as plt\n",
        "from sklearn.model_selection import train_test_split \n",
        "import numpy as np\n",
        "from sklearn import metrics\n",
        "\n",
        "path = 'drive/My Drive/Final_Proj/'\n",
        "\n",
        "file = path + 'covid-19-data-master/us-counties.csv'\n",
        "file2 = path + 'Statewide-Stay-at-Home-Orders.csv'\n",
        "sah = pd.read_csv(file2)\n",
        "\n",
        "df = pd.read_csv(file)\n",
        "\n",
        "\n",
        "## Log normalize the data\n",
        "x = df['cases'].values\n",
        "x_log = np.log(x)\n",
        "df_case = pd.DataFrame(x_log)\n",
        "df['cases'] = df_case\n",
        "\n",
        "\n",
        "states = list(df.state.unique())\n",
        "states_rem = ['Puerto Rico', 'Guam', 'Northern Mariana Islands', 'Virgin Islands', 'Arkansas',\\\n",
        "              'Iowa', 'Nebraska', 'North Dakota', 'Oklahoma', 'South Carolina', 'South Dakota',\\\n",
        "              'Utah', 'Wyoming', 'Hawaii']\n",
        "\n",
        "for state in states_rem:\n",
        "    states.remove(state)\n",
        "\n",
        "\n",
        "################### States: #########################\n",
        "\n",
        "\n",
        "def get_data_features(county, state, state_data, val):\n",
        "\n",
        "    county_data = state_data.loc[state_data['county'] == county] #isolate dataframe for just that county\n",
        "\n",
        "    \n",
        "    sah_state = sah.loc[sah['State'] == state] #pull state SAH order date by matching state name\n",
        "    sah_date = sah_state.iloc[0]['Effective Date'] #isolate SAH order date\n",
        "\n",
        "    cases = list(county_data['cases'])\n",
        "    idx = np.where(state_data['date'] == sah_date) #find the index where SAH order starts in state data\n",
        "    df_slice = county_data.iloc[idx[0][0] : len(county_data)] #slice state data so it starts with SAH order date\n",
        "    \n",
        "    slice_list = list(df_slice['cases']) # y-axis is num of cases\n",
        "    dif = len(cases) -  len(slice_list) #num days between first cases and first day of SAH\n",
        "\n",
        "    if len(slice_list) > 34 and dif >= 10:\n",
        "      x1 = cases[dif - 10]  # num cases 10 days before SAH\n",
        "      x2 = cases[dif]       # num cases on SAH\n",
        "      x3 = cases[dif + 14]  #num cases 2 weeks after SAH\n",
        "      x4 = cases[dif + 24] # num cases 1 mo after SAH\n",
        "\n",
        "      r1 = np.sqrt((x2 - x1)**2 / 10)   #average  daily rate over 10 days before SAH\n",
        "      r2 = np.sqrt((x3 - x2)**2 / 14)   #average daily rate over 2 weeks after SAH\n",
        "      r3 = np.sqrt((x4 - x3)**2 / 10)   #average daily rate of cahnge between 14-24 days after SAH\n",
        "\n",
        "      if val == 1:\n",
        "        x1 = x1 # num cases 10 days before of SAH\n",
        "        x2 = x3 # num cases 2 weeks after SAH\n",
        "        x3 = slice_list[-1] \n",
        "      elif val ==2:\n",
        "        x1 = r1  #rate of change 10 - 0 days before SAH\n",
        "        x2 = r3 # rate of change 14-24 days after SAH\n",
        "        x3 = slice_list[-1] # number of cases on May 1\n",
        "\n",
        "      #  categorize:\n",
        "      # SAH order 0-6 days after first case = 1\n",
        "      #SAH order 7-13 days after first case = 2\n",
        "      # SAH order 14 + days after first case = 3\n",
        "      if dif < 7:\n",
        "        cat = 1\n",
        "        y = [1, 0, 0]\n",
        "      elif dif >= 14:\n",
        "        cat = 3\n",
        "        y = [0, 0, 1]\n",
        "      else:\n",
        "        cat = 2\n",
        "        y = [0, 1, 0]\n",
        "\n",
        "    else:\n",
        "     \n",
        "      r2 = 0\n",
        "      r3 = 0\n",
        "      x1 = 0\n",
        "      x2 = 0\n",
        "      x3 = 0\n",
        "      y = 0\n",
        "      \n",
        "      \n",
        "    return  x1, x2, x3, y\n",
        "\n",
        " \n",
        "\n",
        "x_vals = []\n",
        "y_vals = []\n",
        "\n",
        "\n",
        "bad=[]\n",
        "\n",
        "#state = \"Indiana\"\n",
        "for state in states:\n",
        "  state_data = df[df.state == state]\n",
        "  counties  = list(state_data.county.unique())\n",
        "\n",
        "  for county in counties:\n",
        "      x1, x2, x3, y = get_data_features(county, state, state_data, 1)\n",
        "      if y == 0:\n",
        "        bad.append(x1)\n",
        "\n",
        "      else:\n",
        "        x_vals.append([x1, x2, x3])\n",
        "        y_vals.append(np.array(y))\n",
        "\n",
        "\n",
        "x_np = np.array(x_vals)\n",
        "y_np = np.array(y_vals)\n",
        "\n",
        "x_vals2 = []\n",
        "y_vals2 = []\n",
        "\n",
        "for state in states:\n",
        "  state_data = df[df.state == state]\n",
        "  counties  = list(state_data.county.unique())\n",
        "\n",
        "  for county in counties:\n",
        "      x1, x2, x3, y = get_data_features(county, state, state_data, 2)\n",
        "      if y == 0:\n",
        "        bad.append(x1)\n",
        "\n",
        "      else:\n",
        "        x_vals2.append([x1, x2, x3])\n",
        "        y_vals2.append(np.array(y))\n",
        "\n",
        "\n",
        "x_np2 = np.array(x_vals2)\n",
        "y_np2 = np.array(y_vals2)\n",
        "\n",
        "'''\n",
        "#separate data into training and testing values\n",
        "X_train, X_test, y_train, y_test = train_test_split(x_np, y_np, test_size=0.2, random_state=0)\n",
        "X_train2, X_test2, y_train2, y_test2 = train_test_split(x_np2, y_np2, test_size=0.2, random_state=0)\n",
        "'''\n",
        "\n",
        "import tensorflow as tf \n",
        "from tensorflow import keras\n",
        "from keras.models import Sequential \n",
        "from keras.layers import Dense, Flatten\n",
        "\n",
        "def run_model(X_train, X_test, y_train,  y_test):\n",
        "  model = Sequential()\n",
        "  model.add(Dense(6, input_shape=(3,), activation= 'relu'))\n",
        "  model.add(Dense(3, activation='sigmoid'))   \n",
        "\n",
        "  ## Compile the model\n",
        "  model.compile(optimizer='SGD', loss='mean_squared_error', metrics = ['categorical_accuracy'])\n",
        "\n",
        "  ## Fit the model\n",
        "  fit = model.fit(X_train, y_train, epochs=20, validation_data=(X_test, y_test), verbose=0)\n",
        "\n",
        "  # Evaluate the Model\n",
        "  train_mse, train_accuracy = model.evaluate(X_train, y_train, verbose=0)\n",
        "  test_mse, test_accuracy = model.evaluate(X_test, y_test, verbose=0)\n",
        "\n",
        "  print(\"\\nTraining Mean Squared Error:\", train_mse)\n",
        "  print(\"Training Accuracy:\", train_accuracy)\n",
        "  print(\"\\n\")\n",
        "  print(\"Testing Mean Squared Error:\", test_mse)\n",
        "  print(\"Testing Accuracy:\", test_accuracy)\n",
        "\n",
        "  return train_accuracy, test_accuracy \n",
        "\n",
        "def get_split(X, y, split_val):\n",
        "  X_train = []\n",
        "  y_train = []\n",
        "  X_test = []\n",
        "  y_test = []\n",
        "\n",
        "  for i in range(len(X)):\n",
        "    if i%5 == split_val:\n",
        "      X_test.append(X[i])\n",
        "      y_test.append(y[i])\n",
        "    else:\n",
        "      X_train.append(X[i])\n",
        "      y_train.append(y[i])\n",
        "    \n",
        "\n",
        "  X_train = np.array(X_train)\n",
        "  y_train = np.array(y_train)\n",
        "  X_test = np.array(X_test)\n",
        "  y_test = np.array(y_test)\n",
        "\n",
        "  return X_train, X_test, y_train, y_test\n",
        "\n",
        "print(\"\\n ***** Evaluation of Model  *****\") \n",
        "       \n",
        "print(\"Model trained on daily rate of number of cases 10 days before SAH,\\n daily rate of cases 14-24 days after SAH and number of cases on May 1\")\n",
        "\n",
        "train_acc_tot2 = []\n",
        "test_acc_tot2 = []\n",
        "for i in range(5):\n",
        "  print(\"\\n--SPLIT\", i+1, \"--\")\n",
        "  X_train2, X_test2, y_train2, y_test2 = get_split(x_vals2, y_vals2, i)\n",
        "  train_acc, test_acc = run_model(X_train2, X_test2, y_train2, y_test2)\n",
        "  train_acc_tot2.append(train_acc)\n",
        "  test_acc_tot2.append(test_acc)\n",
        "\n",
        "print(\"\\nAVERAGE TRAINING ACCURACY:\", sum(train_acc_tot2)/5)\n",
        "print(\"AVERAGE TESTING ACCURACY:\", sum(test_acc_tot2)/5)"
      ],
      "execution_count": 0,
      "outputs": [
        {
          "output_type": "stream",
          "text": [
            "/usr/local/lib/python3.6/dist-packages/ipykernel_launcher.py:19: RuntimeWarning: divide by zero encountered in log\n"
          ],
          "name": "stderr"
        },
        {
          "output_type": "stream",
          "text": [
            "\n",
            " ***** Evaluation of Model  *****\n",
            "Model trained on daily rate of number of cases 10 days before SAH,\n",
            " daily rate of cases 14-24 days after SAH and number of cases on May 1\n",
            "\n",
            "--SPLIT 1 --\n",
            "\n",
            "Training Mean Squared Error: 0.23365677339690072\n",
            "Training Accuracy: 0.44285714626312256\n",
            "\n",
            "\n",
            "Testing Mean Squared Error: 0.23493235641055638\n",
            "Testing Accuracy: 0.4166666567325592\n",
            "\n",
            "--SPLIT 2 --\n",
            "\n",
            "Training Mean Squared Error: 0.26379446780427973\n",
            "Training Accuracy: 0.44680851697921753\n",
            "\n",
            "\n",
            "Testing Mean Squared Error: 0.27066079548427036\n",
            "Testing Accuracy: 0.4000000059604645\n",
            "\n",
            "--SPLIT 3 --\n",
            "\n",
            "Training Mean Squared Error: 0.254199170580147\n",
            "Training Accuracy: 0.567375898361206\n",
            "\n",
            "\n",
            "Testing Mean Squared Error: 0.2547376922198704\n",
            "Testing Accuracy: 0.5428571701049805\n",
            "\n",
            "--SPLIT 4 --\n",
            "\n",
            "Training Mean Squared Error: 0.24398783441130997\n",
            "Training Accuracy: 0.5602836608886719\n",
            "\n",
            "\n",
            "Testing Mean Squared Error: 0.24609814413956232\n",
            "Testing Accuracy: 0.5428571701049805\n",
            "\n",
            "--SPLIT 5 --\n",
            "\n",
            "Training Mean Squared Error: 0.2195395516588333\n",
            "Training Accuracy: 0.43262410163879395\n",
            "\n",
            "\n",
            "Testing Mean Squared Error: 0.21946010632174356\n",
            "Testing Accuracy: 0.4571428596973419\n",
            "\n",
            "AVERAGE TRAINING ACCURACY: 0.4899898648262024\n",
            "AVERAGE TESTING ACCURACY: 0.4719047725200653\n"
          ],
          "name": "stdout"
        }
      ]
    },
    {
      "cell_type": "markdown",
      "metadata": {
        "id": "z5gvod5iBU_z",
        "colab_type": "text"
      },
      "source": [
        "# Conclusions\n",
        "\n",
        "In this report, we explored the New York Times COVID-19 data to determine if predictions could be made about the number of cases and rate of infection for various states and counties within the US. We used linear regression to observe if our model trained on the number of overall cases for states on a given date could be predictive of the number of cases on another date 2 weeks later. "
      ]
    },
    {
      "cell_type": "markdown",
      "metadata": {
        "id": "AQKp8QYrAbFi",
        "colab_type": "text"
      },
      "source": [
        "# Contributions:  \n",
        "Serena collected data, coded the inital observations of data, and helped devise the the problem space and model architectures, and wrote up half of the report. \n",
        "Katie helped collect some of the data, put the agreed upon models into code, and wrote up half of the report. "
      ]
    }
  ]
}